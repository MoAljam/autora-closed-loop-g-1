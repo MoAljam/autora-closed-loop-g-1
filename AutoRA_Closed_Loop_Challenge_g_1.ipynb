{
  "cells": [
    {
      "cell_type": "markdown",
      "metadata": {
        "id": "view-in-github",
        "colab_type": "text"
      },
      "source": [
        "<a href=\"https://colab.research.google.com/github/MoAljam/autora-closed-loop-g-1/blob/develop/AutoRA_Closed_Loop_Challenge_g_1.ipynb\" target=\"_parent\"><img src=\"https://colab.research.google.com/assets/colab-badge.svg\" alt=\"Open In Colab\"/></a>"
      ]
    },
    {
      "cell_type": "markdown",
      "metadata": {
        "id": "wmZ1RNydtCA1"
      },
      "source": [
        "# Introduction\n",
        "\n",
        "In this challenge, you are tasked to document your closed-loop case study.\n",
        "\n",
        "\n",
        "\n",
        "\n",
        "\n",
        "\n"
      ]
    },
    {
      "cell_type": "markdown",
      "metadata": {
        "id": "h--sPj7T3Nqc"
      },
      "source": [
        "## Grading\n",
        "\n",
        "- Due date: **August 30**\n",
        "- Submission: Through ``Stud.IP -> Tasks -> Closed-Loop Challenge``\n",
        "\n",
        "The grading is independent of the outcome of the benchmarking challenge. In total, you can obtain **30 points**, which are detailed in the graded sections below.\n",
        "\n",
        "Teams must submit a link to this notebook, along with a link to their repository on the respective Stud.IP task. In addition, teams must  outline the contributions of each team member in their submission on ``Stud.IP -> Tasks -> Closed-Loop Challenge``."
      ]
    },
    {
      "cell_type": "markdown",
      "source": [
        "# Research Question (2 points)\n",
        "\n",
        "Please outline in the text block below the overarching research question you are addressing with your closed-loop study. What aspects of human cognition are you studying?"
      ],
      "metadata": {
        "id": "LRsY_blPe6ho"
      }
    },
    {
      "cell_type": "markdown",
      "source": [
        "With our closed-loop experiment, we aim to replicate a study conducted by Tsushima et al. (2006). In particular, we want to look into how stimuli which are not consciously perceived -- so-called subthreshold or invisible stimuli -- and which are irrelevant to a task influence task performance. In general, the authors propose two different hypotheses regarding this influence: first, that irrelevant, invisible stimuli disrupt task performance more as their intensity increases; or second, that there is no effect of this type of stimulus on task performance, as they are being filtered out or suppressed."
      ],
      "metadata": {
        "id": "J7o1yT6wfLb_"
      }
    },
    {
      "cell_type": "markdown",
      "source": [
        "# Paradigm (2 points)\n",
        "\n",
        "Provide a brief description of the overall paradigm (psychphysics paradigm, multi-arm bandit paradigm, task switching paradigm, etc.) you are using. (1 point)"
      ],
      "metadata": {
        "id": "vWHT1l0YfRQg"
      }
    },
    {
      "cell_type": "markdown",
      "source": [
        "The overall paradigm used in this study is a psychophysics task -- namely, a rapid serial visual presentation (RSVP). In this task, participants are presented a small circle in the middle of the screen, which shows a sequence of a total of six letters and two numbers one by one. This means that each trial consists of eight screens, which are presented one after another, with a 45 ms interval in between them, during which a blank screen is being shown. This sequence is task-relevant, as participants have to focus on it and after each trial, report the two numbers which have been shown to them throughout the whole sequence. In addition to that, there is task-irrelevant component: a dynamic random-dot (DRD) display in the background, which appears within a larger circle surrounding the central circle showing the previously explained sequence. The DRD display varies across trials with regard to both the coherence ratio of the dots and their motion."
      ],
      "metadata": {
        "id": "R56qismwfp1R"
      }
    },
    {
      "cell_type": "markdown",
      "source": [
        "Outline below why you think the paradigm is well suited to address the research question. (1 point)"
      ],
      "metadata": {
        "id": "M74ySQWfflHu"
      }
    },
    {
      "cell_type": "markdown",
      "source": [
        "This paradigm is well suited to address the research question at hand, since it incorporates both a task-relevant and task-irrelevant component. Further, it allows for assessing the participants' performance on one task while giving the opportunity to manipulate a second task and its difficulty level; for example, the irrelevant task can be made more difficult by lowering the coherence ratio of the moving dots."
      ],
      "metadata": {
        "id": "IjcyprnWfqw1"
      }
    },
    {
      "cell_type": "markdown",
      "source": [
        "# Experiment Variables (4 points)"
      ],
      "metadata": {
        "id": "r2FzeegnfwEh"
      }
    },
    {
      "cell_type": "markdown",
      "source": [
        "Deescribe the **independent** variables of your experiment. What do these variables represent, which values can they take? (2 points)"
      ],
      "metadata": {
        "id": "RKcQSyElfy-q"
      }
    },
    {
      "cell_type": "markdown",
      "source": [
        "There are two key independent variables:\n",
        "1. **Stimulus Strength**: this variable manipulates **the visibility of the stimulus** presented to participants.\n",
        "\n",
        "2. **Task-relevance** (Irrelevant vs. relevant stimuli): this variable manipulates whether **the presented stimulus is relevant or irrelevant** to the task being performed by the participants.\n",
        "*   **Irrelevant stimuli** are those that the participants are not supposed to pay attention to during the task.\n",
        "*   **Relevant stimuli** refer to those directly related to the participants' task.\n",
        "\n",
        "What these variables represent:\n",
        "* **Stimulus Strength** represents the degree of perceptual visibility and awareness of the stimuli (whether the stimuli are consciously seen or remain unnoticed).\n",
        "* **Task-Relevance** represents whether the stimulus should be attended to or ignored by participants during the cognitive task.\n",
        "\n",
        "The experiment aimed to study how different types of stimuli affect brain activity and task performance, particularly when inhibitory control fails (i.e., how well participants can ignore or suppress irrelevant stimuli).\n",
        "\n",
        "\n",
        "\n",
        "\n"
      ],
      "metadata": {
        "id": "zKMrWfdNgARa"
      }
    },
    {
      "cell_type": "markdown",
      "source": [
        "Describe the **dependent** variables of your experiment. What do these variables represent, which values can they take? (2 points)"
      ],
      "metadata": {
        "id": "BmKIhVvdgB0H"
      }
    },
    {
      "cell_type": "markdown",
      "source": [
        "There are two dependent variables of the experiment: **Reaction time** and **Accuracy**\n",
        "* **Reaction time** refers to how quickly participants respond to the task, while **accuracy** reflects how correct their responses are.\n",
        "* **Values:** Reaction time (in milliseconds) and accuracy (percentage of correct responses).\n",
        "* **What it represents:** This variable assesses the **cognitive disruption** caused by different types of distractors. If participants perform slower or less accurately when exposed to certain stimuli (especially subthreshold, irrelevant stimuli), it suggests that these stimuli are causing cognitive interference, despite being outside of conscious awareness.\n",
        "\n",
        "Measuring these dependent variables can examine how cognitive and neural processes are affected by subthreshold vs. suprathreshold stimuli and the brain’s ability to inhibit irrelevant distractors.\n",
        "\n",
        "\n"
      ],
      "metadata": {
        "id": "tCf-979MgDhW"
      }
    },
    {
      "cell_type": "markdown",
      "source": [
        "# Counterbalancing (4 points)"
      ],
      "metadata": {
        "id": "8EYNBgKvgG1F"
      }
    },
    {
      "cell_type": "markdown",
      "source": [
        "Describe how you counterbalanced the independent variables of the experiment into an experimental sequence. Make sure to mention all constraints that were used to generate the experiment sequence (2 points)."
      ],
      "metadata": {
        "id": "TT4AXC-RgKbr"
      }
    },
    {
      "cell_type": "markdown",
      "source": [
        "To counterbalance the independent variables in the experimental sequence, we followed a structured approach to ensure balance and control across trials.\n",
        "\n",
        "**Independent Variables**\n",
        "* Coherence Ratio: This refers to the ratio of coherent motion signals presented in the experiment.\n",
        "* Motion Direction: Represents the direction of movement during the task.\n",
        "* Repetition: Each combination of coherence and direction was repeated a set number of times (default: 5 repetitions).\n",
        "* Trial Items: For each trial, six letters and two numbers were selected. One number was presented in the first four trials and the second number in the last four, maintaining consistent difficulty across trials.\n",
        "\n",
        "**Design**\n",
        "Crossing: Each experimental block crossed these factors to ensure that each combination of coherence ratio and motion direction appeared multiple times across repetitions.\n",
        "\n",
        "**Constraints**\n",
        "The number distribution ensured that one number was displayed in the first half of the trial, and another number was displayed in the second half, aligning with the procedure of the original study."
      ],
      "metadata": {
        "id": "2FDHMc4VgRZl"
      }
    },
    {
      "cell_type": "markdown",
      "source": [
        "Please paste the code you used for counterbalancing (e.g., SweetPea code) here. You don't have to execute this code here, so you can omit import statements. (2 points)"
      ],
      "metadata": {
        "id": "7Ow7hzPJgR7Z"
      }
    },
    {
      "cell_type": "code",
      "source": [
        "\n",
        "def generate_trial_items():\n",
        "  \"\"\"\n",
        "  generates one sequence while making sure that one number is displayed throughout the first four trials and the second number throughout\n",
        "  the last four trials. this is in accordance with the procedure of the original study and ensures that the difficulty level remains similar\n",
        "  across all trials.\n",
        "\n",
        "  input:\n",
        "      --\n",
        "\n",
        "  output:\n",
        "      list: one sequence, containing six letters and two numbers\n",
        "  \"\"\"\n",
        "\n",
        "    # create list of all possible letters\n",
        "    letters = [\n",
        "        \"A\",\n",
        "        \"B\",\n",
        "        \"C\",\n",
        "        \"D\",\n",
        "        \"E\",\n",
        "        \"F\",\n",
        "        \"G\",\n",
        "        \"H\",\n",
        "        \"I\",\n",
        "        \"J\",\n",
        "        \"K\",\n",
        "        \"L\",\n",
        "        \"M\",\n",
        "        \"N\",\n",
        "        \"O\",\n",
        "        \"P\",\n",
        "        \"Q\",\n",
        "        \"R\",\n",
        "        \"S\",\n",
        "        \"T\",\n",
        "        \"U\",\n",
        "        \"V\",\n",
        "        \"W\",\n",
        "        \"X\",\n",
        "        \"Y\",\n",
        "        \"Z\",\n",
        "    ]\n",
        "\n",
        "    # create list of all possible numbers\n",
        "    numbers = [\"1\", \"2\", \"3\", \"4\"]\n",
        "\n",
        "    # make 2 lists of 4 items with each list containing 3 letters and 1 number\n",
        "    items_first = random.sample(letters, 3) + random.sample(numbers, 1)\n",
        "    items_second = random.sample(letters, 3) + random.sample(numbers, 1)\n",
        "\n",
        "    # shuffle the items of each list\n",
        "    random.shuffle(items_first)\n",
        "    random.shuffle(items_second)\n",
        "\n",
        "    # concatenate both lists to a sinlge one, resulting in a whole sequence of one experimental trial\n",
        "    items = items_first + items_second\n",
        "\n",
        "    return items\n",
        "\n",
        "\n",
        "def shuffle_chunks(group):\n",
        "    # Shuffle the group to randomize data before chunking\n",
        "    group = group.sample(frac=1).reset_index(drop=True)\n",
        "    n = 8  # Define chunk size\n",
        "    chunks = [group.iloc[i : i + n] for i in range(0, len(group), n)]\n",
        "\n",
        "    return chunks\n",
        "\n",
        "\n",
        "def assign_items_shuffle_chunk(group):\n",
        "    # Shuffle the group to randomize data before chunking\n",
        "    group = group.sample(frac=1).reset_index(drop=True)\n",
        "    items = generate_trial_items()\n",
        "    if len(group) != len(items):\n",
        "        raise ValueError(\"Group and items must have the same length\")\n",
        "    # add one item to each trial from the generated items\n",
        "    for idx, _ in group.iterrows():\n",
        "        group.at[idx, \"item\"] = items[idx]\n",
        "\n",
        "    n = len(group)\n",
        "    chunks = [group.iloc[i : i + n] for i in range(0, len(group), n)]\n",
        "    return chunks\n",
        "\n",
        "\n",
        "def trial_sequences(\n",
        "    coherence_ratios: list,\n",
        "    motion_directions: list,\n",
        "    sequence_type=\"target\",\n",
        "    all_items_in_one_trial=True,\n",
        "    num_repetitions=5,\n",
        "):\n",
        "\n",
        "    coherence_ratio = Factor(\"coherence_ratio\", coherence_ratios)\n",
        "    motion_direction = Factor(\"motion_direction\", motion_directions)\n",
        "    repetition = Factor(\"repetetion\", list(range(1, num_repetitions + 1)))\n",
        "\n",
        "    # used in case of repeating the items of each trial\n",
        "    _num = Factor(\"_num\", list(range(1, 9)))\n",
        "\n",
        "    # counterbalance experimental variables by coherence ratio and motion directon\n",
        "    # design = [coherence_ratio, motion_direction, repetetion, *items]\n",
        "    design = [coherence_ratio, motion_direction, repetition]\n",
        "    crossing = [coherence_ratio, motion_direction, repetition]\n",
        "\n",
        "    if not all_items_in_one_trial:\n",
        "        design.append(_num)\n",
        "        crossing.append(_num)\n",
        "\n",
        "    constraints = []\n",
        "\n",
        "    # block = CrossBlock(design, crossing, constraints)\n",
        "    block = CrossBlock(design, crossing, constraints)\n",
        "\n",
        "    # synthesize trialsequence\n",
        "    experiments = synthesize_trials(block, 1, CMSGen)\n",
        "\n",
        "    experiments_dicts = experiments_to_dicts(block, experiments)\n",
        "\n",
        "    # display(experiments_dicts[0])\n",
        "    if all_items_in_one_trial:\n",
        "        # extend the the experiment with the trial items\n",
        "        for experiment in experiments_dicts:\n",
        "            for trial in experiment:\n",
        "                trial_items = generate_trial_items()\n",
        "                items_dict = {f\"item_{i}\": trial_items[i - 1] for i in range(1, 9)}\n",
        "                trial.update(items_dict)\n",
        "                # add the correct response to each trial\n",
        "                numbers = [int(item) for item in trial_items if item.isdigit()]\n",
        "                # trial[\"correct_choice\"] = [chr(n) for n in numbers]\n",
        "                trial[\"correct_choice\"] = numbers\n",
        "                # add the trail type\n",
        "                trial[\"sequence_type\"] = sequence_type\n",
        "\n",
        "    else:\n",
        "        raise NotImplementedError(\n",
        "            \"Not implemented , use all_items_in_one_trial=True as it fits the current implementation\"\n",
        "        )\n",
        "\n",
        "    return experiments_dicts"
      ],
      "metadata": {
        "id": "pKDb1FNtgmKO",
        "colab": {
          "base_uri": "https://localhost:8080/",
          "height": 110
        },
        "outputId": "b8c1879d-4512-4b59-e7bd-37b9f7371a17"
      },
      "execution_count": 3,
      "outputs": [
        {
          "output_type": "error",
          "ename": "IndentationError",
          "evalue": "unexpected indent (<ipython-input-3-2b63ddea8fa8>, line 16)",
          "traceback": [
            "\u001b[0;36m  File \u001b[0;32m\"<ipython-input-3-2b63ddea8fa8>\"\u001b[0;36m, line \u001b[0;32m16\u001b[0m\n\u001b[0;31m    letters = [\u001b[0m\n\u001b[0m    ^\u001b[0m\n\u001b[0;31mIndentationError\u001b[0m\u001b[0;31m:\u001b[0m unexpected indent\n"
          ]
        }
      ]
    },
    {
      "cell_type": "markdown",
      "source": [
        "# Experiment Implementation (4 points)"
      ],
      "metadata": {
        "id": "C13cyQxLgz8H"
      }
    },
    {
      "cell_type": "markdown",
      "source": [
        "Describe the sequence of events in your experiment. Make sure to describe the structure of the experiment (e.g., how many and which blocks were used) and make sure to describe the sequence of events within each trial (along with the timings of those events). In addition, you may describe all stimuli used in the experiment. (2 points)"
      ],
      "metadata": {
        "id": "V2TYe8SRg2fs"
      }
    },
    {
      "cell_type": "markdown",
      "source": [
        "There are 4 separate blocks in our experiment.\n",
        "\n",
        "1. Introduction Block:\n",
        "\n",
        "    Participants are greeted and presented with instructions.\n",
        "    Three instruction screens explain the task: a sequence of 8 items (6 letters, 2 numbers), how to focus on recalling the digits, and ignoring the moving dots in the background.\n",
        "\n",
        "2. Training Block:\n",
        "\n",
        "    Participants undergo training rounds with example trials to get accustomed to the task.\n",
        "    The stimuli and sequence structure in the training are identical to the actual experiment to help participants familiarize themselves with the task.\n",
        "\n",
        "3. Experiment Block:\n",
        "\n",
        "    The actual experiment follows the same structure as the training but with real data collection.\n",
        "    Participants perform multiple trials where they are asked to focus on recalling the two digits from each sequence.\n",
        "\n",
        "4. Debriefing Block:\n",
        "\n",
        "    After completing the experiment, participants receive a debrief message and can provide feedback.\n",
        "\n",
        "\n",
        "\n",
        "**The Sequence of the Events Within Each Trial**\n",
        "\n",
        "Each trial consists of a sequence of events, designed to measure the participant’s recall of two digits from a series of items presented on the screen.\n",
        "\n",
        "1. Fixation Onset: A blank screen (680 ms) to prepare participants.\n",
        "\n",
        "2. Fixation Cross: A fixation cross (\"+\") appears for 915 ms, helping participants focus on the center of the screen.\n",
        "\n",
        "3. Fixation Offset: A short blank screen (400 ms) before the presentation of the stimulus items.\n",
        "\n",
        "4. Presentation of Items:\n",
        "   * RSVP Task: The eight items (6 letters and 2 numbers) are displayed in the middle of the screen, one at a time.\n",
        "   * Each item is presented for 75 ms, followed by a brief blank screen (45 ms) before the next item appears.\n",
        "   * Background motion with dots moves during the sequence, but participants are instructed to ignore it.\n",
        "\n",
        "5. Participant Response:\n",
        "   * After all items are shown, participants are asked to recall the two digits in the sequence.\n",
        "   * They provide their responses by typing the numbers on their keyboard. If they cannot remember the digits, they can press \"x\" to skip.\n",
        "\n",
        "\n",
        "**Stimuli Used**\n",
        "\n",
        " 1. Visual Items: Sequences contain six letters from the alphabet and two digits randomly selected from [1, 2, 3, 4]. These are presented in rapid succession.\n",
        " 2. Background Motion: Random dot motion pattern (RDP) is shown in the background during the trials, but participants are told to ignore it.\n",
        "\n",
        ""
      ],
      "metadata": {
        "id": "FK4BbhkhhI95"
      }
    },
    {
      "cell_type": "markdown",
      "source": [
        "Please paste (SweetBean) code you used for creating your experiment. If you didn't use SweetBean, you can paste the JavaScript code here. (2 points)"
      ],
      "metadata": {
        "id": "ROUEPPnXhMb5"
      }
    },
    {
      "cell_type": "code",
      "source": [
        "def stimulus_sequence(experiment_timeline, training_timeline, to_html=False):\n",
        "  \"\"\"\n",
        "  input:\n",
        "      experiment_timeline:\n",
        "      training_timeline:\n",
        "      to_html: specifies wether html file of experiment should be created (False by default)\n",
        "\n",
        "  output:\n",
        "    whole experiment as JavaScript code\n",
        "  \"\"\"\n",
        "    ############################################################################\n",
        "    # define timeline variables\n",
        "    ############################################################################\n",
        "    coherence_ratio = TimelineVariable(\"coherence_ratio\", [])\n",
        "    motion_direction = TimelineVariable(\"motion_direction\", [])\n",
        "\n",
        "    item_1 = TimelineVariable(\"item_1\", [])\n",
        "    item_2 = TimelineVariable(\"item_2\", [])\n",
        "    item_3 = TimelineVariable(\"item_3\", [])\n",
        "    item_4 = TimelineVariable(\"item_4\", [])\n",
        "    item_5 = TimelineVariable(\"item_5\", [])\n",
        "    item_6 = TimelineVariable(\"item_6\", [])\n",
        "    item_7 = TimelineVariable(\"item_7\", [])\n",
        "    item_8 = TimelineVariable(\"item_8\", [])\n",
        "\n",
        "    correct_choice = TimelineVariable(\"correct_choice\", [])\n",
        "    sequence_type = TimelineVariable(\"sequence_type\", [])\n",
        "    choices = TimelineVariable(\"choices\", [])\n",
        "\n",
        "    ############################################################################\n",
        "    # create all stimulus sequences needed for whole experiment\n",
        "    ############################################################################\n",
        "\n",
        "    # write all instructions\n",
        "    # introduction\n",
        "    introduction = TextStimulus(\n",
        "        text=\"<p>Welcome to the experiment!<br>Let's look into the instructions of the experiment first.</p>Press SPACE to continue.\",\n",
        "        choices=[\" \"],\n",
        "    )\n",
        "\n",
        "    # instructions on experiment divided into three different screens\n",
        "    instruction_1 = TextStimulus(\n",
        "        text=\"<p>In this experiment, you will see a sequence of <strong>eight items</strong>, which consist of <strong>six letters</strong> \" +\n",
        "        \"out of the whole alphabet and <strong>two digits</strong> out of '1', '2', '3', and '4'.<br>The items will be presented one after \" +\n",
        "        \"another in the middle of your screen.</p>Press SPACE to continue.\",\n",
        "        choices=[\" \"],\n",
        "    )\n",
        "\n",
        "    instruction_2 = TextStimulus(\n",
        "        text=\"<p>Your task will be to focus on the two digits and remember them. You will then also be asked to report them by pressing the\" +\n",
        "        \"according keys on your keyboard. The order in which they were presented doesn't matter here – just the two digits themselves.\" +\n",
        "        \"</p>Press SPACE to continue.\",\n",
        "        choices=[\" \"],\n",
        "    )\n",
        "\n",
        "    instruction_3 = TextStimulus(\n",
        "        text=\"<p>There will also be some pattern with moving dots displayed in the background, but you don't have to pay attention to that.\" +\n",
        "        \"<br>Try focusing on the sequence, and in particular, the two digits instead.</p>Press SPACE to continue.\",\n",
        "        choices=[\" \"],\n",
        "    )\n",
        "\n",
        "    # training onboarding\n",
        "    training_boarding = TextStimulus(\n",
        "        text=\"<p>Now let's look at some examples.<br>In the following, we have a couple of training rounds for you to get accustomed to the \" +\n",
        "        \"experiment and the task.</p>Press SPACE to start the training.\",\n",
        "        choices=[\" \"],\n",
        "    )\n",
        "\n",
        "    # experiment onboarding\n",
        "    experiment_boarding = TextStimulus(\n",
        "        text=\"<p>Now that you know how the experiment works and what you have to do, let's start with the actual experiment!\" +\n",
        "        \"<br>It will look exactly like the training you just had. Again, try to focus on the sequence and the two digits in the middle of \" +\n",
        "        \"your screen. Good luck!</p>Press SPACE to start the experiment.\",\n",
        "        choices=[\" \"],\n",
        "    )\n",
        "\n",
        "    # break\n",
        "    pause = TextStimulus(\n",
        "        text=\"<p>Feel free to take a short break now!</p>Press SPACE when you are ready to continue the experiment.\",\n",
        "        choices=[\" \"],\n",
        "    )\n",
        "\n",
        "    # debriefing\n",
        "    debriefing = TextStimulus(\n",
        "        text=\"<p>Congratulations, you finished the experiment!<br>Thank you for participating and for sticking until the end!\" +\n",
        "        \"I hope you had at least some fun during all of it.</p>Press SPACE to continue.\",\n",
        "        choices=[\" \"],\n",
        "    )\n",
        "\n",
        "    # feedback\n",
        "    feedback = TextSurveyStimulus(\n",
        "        prompts=[\n",
        "            \"<p>If you have any feedback for us, we would appreciate hearing about it. Did you encounter any issues during the experiment?\" +\n",
        "            \"Do you have any suggestions for improvement? Or do you have any other comments you want to share with us? Let us know here!</p>\"\n",
        "        ]\n",
        "    )\n",
        "\n",
        "    # closure\n",
        "    closure = TextStimulus(\n",
        "        text=\"<p>Thank you once again for your participation, and have a great day!</p>Press SPACE to end the experiment.\",\n",
        "        choices=[\" \"],\n",
        "    )\n",
        "\n",
        "\n",
        "    # screen with fixation cross and blank screens around it\n",
        "    fixation_onset = BlankStimulus(duration=680)\n",
        "    fixation = TextStimulus(duration=915, text=\"+\")\n",
        "    fixation_offset = BlankStimulus(duration=400)\n",
        "\n",
        "    # blank screen in between items of a sequence within a trial\n",
        "    between_items = BlankStimulus(duration=45)\n",
        "\n",
        "    # participant response, i.e. input of two numbers within previously displayed sequence\n",
        "    response_1 = TextStimulus(\n",
        "        text=\"<p>Use your keyboard to enter a digit which you recall seeing out of<br>'1', '2', '3', '4'</p>\" +\n",
        "        \"If you cannot remember any number, press 'x'.\",\n",
        "        choices=[\"1\", \"2\", \"3\", \"4\", \"x\"],\n",
        "        correct_key=correct_choice,\n",
        "    )\n",
        "    response_2 = TextStimulus(\n",
        "        text=\"<p>Use your keyboard to enter the other digit you recall seeing out of<br>'1', '2', '3', '4'.</p>\" +\n",
        "        \"If you cannot remember another number, press 'x'.\",\n",
        "        choices=[\"1\", \"2\", \"3\", \"4\", \"x\"],\n",
        "        correct_key=correct_choice,\n",
        "    )\n",
        "\n",
        "    ############################################################################\n",
        "    # function for creating screens for individual items of a trial sequence, i.e. of RSVP task\n",
        "    ############################################################################\n",
        "    def rsvp_maker(\n",
        "        item,\n",
        "        coherence_ratio=coherence_ratio,\n",
        "        motion_direction=motion_direction,\n",
        "        correct_choice=correct_choice,\n",
        "        sequence_type=sequence_type,\n",
        "    ):\n",
        "    \"\"\"\n",
        "    input:\n",
        "        item:\n",
        "        coherence_ratio:\n",
        "        motion_direction:\n",
        "        correct_choice:\n",
        "        sequence_type:\n",
        "\n",
        "    output:\n",
        "\n",
        "\n",
        "    \"\"\"\n",
        "        rdp = rdp_rsvp_stimulus(\n",
        "            duration=75,\n",
        "            number_of_oobs=20,\n",
        "            number_of_apertures=1,\n",
        "            movement_speed=40,\n",
        "            coherence_movement=coherence_ratio,\n",
        "            coherent_movement_direction=motion_direction,\n",
        "            oob_color=\"white\",\n",
        "            background_color=\"black\",\n",
        "            aperture_height=300,\n",
        "            aperture_width=300,\n",
        "            stimulus_type=1,  # 1 is for circles\n",
        "            text=sequence_type,\n",
        "            prompt=item,\n",
        "            color=\"black\",\n",
        "            correct_key=correct_choice,\n",
        "        )\n",
        "        return rdp\n",
        "\n",
        "    ############################################################################\n",
        "    # create all lists of stimulus sequences and individual blocks\n",
        "    ############################################################################\n",
        "    introduction_list = [introduction]\n",
        "    introduction_block = Block(introduction_list)\n",
        "\n",
        "    instruction_list = [instruction_1, instruction_2, instruction_3]\n",
        "    instruction_block = Block(instruction_list)\n",
        "\n",
        "    training_boarding_list = [training_boarding]\n",
        "    training_boarding_block = Block(training_boarding_list)\n",
        "\n",
        "    # training\n",
        "    training_list = [\n",
        "        fixation_onset,\n",
        "        fixation,\n",
        "        fixation_offset,\n",
        "        rsvp_maker(item_1),\n",
        "        between_items,\n",
        "        rsvp_maker(item_2),\n",
        "        between_items,\n",
        "        rsvp_maker(item_3),\n",
        "        between_items,\n",
        "        rsvp_maker(item_4),\n",
        "        between_items,\n",
        "        rsvp_maker(item_5),\n",
        "        between_items,\n",
        "        rsvp_maker(item_6),\n",
        "        between_items,\n",
        "        rsvp_maker(item_7),\n",
        "        between_items,\n",
        "        rsvp_maker(item_8),\n",
        "        response_1,\n",
        "        response_2,\n",
        "    ]\n",
        "\n",
        "    training_block = Block(training_list, training_timeline)\n",
        "\n",
        "    experiment_boarding_list = [experiment_boarding]\n",
        "    experiment_boarding_block = Block(experiment_boarding_list)\n",
        "\n",
        "    # actual experiment\n",
        "    experiment_list = [\n",
        "        fixation_onset,\n",
        "        fixation,\n",
        "        fixation_offset,\n",
        "        rsvp_maker(item_1),\n",
        "        between_items,\n",
        "        rsvp_maker(item_2),\n",
        "        between_items,\n",
        "        rsvp_maker(item_3),\n",
        "        between_items,\n",
        "        rsvp_maker(item_4),\n",
        "        between_items,\n",
        "        rsvp_maker(item_5),\n",
        "        between_items,\n",
        "        rsvp_maker(item_6),\n",
        "        between_items,\n",
        "        rsvp_maker(item_7),\n",
        "        between_items,\n",
        "        rsvp_maker(item_8),\n",
        "        response_1,\n",
        "        response_2,\n",
        "    ]\n",
        "    experiment_block = Block(experiment_list, experiment_timeline)\n",
        "\n",
        "    debriefing_list = [debriefing, feedback, closure]\n",
        "    debriefing_block = Block(debriefing_list)\n",
        "\n",
        "    ############################################################################\n",
        "    # set up the final experiment consisting of all blocks\n",
        "    ############################################################################\n",
        "    block_list = [\n",
        "        introduction_block,\n",
        "        instruction_block,\n",
        "        training_boarding_block,\n",
        "        training_block,\n",
        "        experiment_boarding_block,\n",
        "        experiment_block,\n",
        "        debriefing_block,\n",
        "    ]\n",
        "\n",
        "    # create final, whole experiment\n",
        "    experiment = Experiment(block_list)\n",
        "\n",
        "    # create html file of experiment if specified to do so based on function input\n",
        "    if to_html:\n",
        "        return experiment.to_html(\"test_experiment.html\")\n",
        "\n",
        "    return experiment.to_js_string(as_function=True, is_async=True)"
      ],
      "metadata": {
        "id": "4WosFnF2hKNL",
        "colab": {
          "base_uri": "https://localhost:8080/",
          "height": 110
        },
        "outputId": "333b2e7b-6aff-450d-c360-2349bbb81b5e"
      },
      "execution_count": 2,
      "outputs": [
        {
          "output_type": "error",
          "ename": "IndentationError",
          "evalue": "unexpected indent (<ipython-input-2-68b2568a971c>, line 15)",
          "traceback": [
            "\u001b[0;36m  File \u001b[0;32m\"<ipython-input-2-68b2568a971c>\"\u001b[0;36m, line \u001b[0;32m15\u001b[0m\n\u001b[0;31m    coherence_ratio = TimelineVariable(\"coherence_ratio\", [])\u001b[0m\n\u001b[0m    ^\u001b[0m\n\u001b[0;31mIndentationError\u001b[0m\u001b[0;31m:\u001b[0m unexpected indent\n"
          ]
        }
      ]
    },
    {
      "cell_type": "markdown",
      "source": [
        "# Preprocessing (2 points)"
      ],
      "metadata": {
        "id": "-JK9omTYjBpu"
      }
    },
    {
      "cell_type": "markdown",
      "source": [
        "Describe how you are pre-processing the raw data from the experiment for further analysis. (1 point)"
      ],
      "metadata": {
        "id": "kvpxGgUPjDHJ"
      }
    },
    {
      "cell_type": "markdown",
      "source": [
        " The pre-processing pipleline:\n",
        "\n",
        " 1. Load raw data.\n",
        " 2. Separate rok_trials and response_trials.\n",
        " 3. Deduplicate and structure trials.\n",
        " 4. Merge stimuli conditions and responses.\n",
        " 5. Calculate hits and misses for each trial.\n",
        " 6. Group by condition and compute the dependent variable (d_prime).\n",
        "\n",
        "\n"
      ],
      "metadata": {
        "id": "Q6rPiYJ-jHMH"
      }
    },
    {
      "cell_type": "markdown",
      "source": [
        "Paste the relevant preprocessing code below. (1 point)"
      ],
      "metadata": {
        "id": "Fyv4IG5VjDxn"
      }
    },
    {
      "cell_type": "code",
      "source": [
        "\n",
        "data_raw = experiment_runner()  # returns observations for each condition as jsPsych data\n",
        "print(\"## got raw data ##\")\n",
        "print(\"data lenght\", len(data_raw))\n",
        "print(\"data type\", type(data_raw), \"type of first element\", type(data_raw[0]))\n",
        "# print(\"data_raw[0]\", data_raw[0])\n",
        "\n",
        "# process the experiment data\n",
        "experiment_data = pd.DataFrame()\n",
        "_df = trial_list_to_experiment_data(data_raw)\n",
        "experiment_data = pd.concat([experiment_data, _df], axis=0)\n",
        "print(\"processed experiment_data:\")\n",
        "display(experiment_data)\n",
        "return Delta(experiment_data=experiment_data)\n",
        "\n",
        "\n",
        "def trial_list_to_experiment_data(trial_sequence):\n",
        "    \"\"\"\n",
        "    Parse a trial sequence (from jsPsych) into dependent and independent variables\n",
        "    independent: coherence_ratio, motion_direction\n",
        "    dependent: d_prime\n",
        "    \"\"\"\n",
        "    trial_sequence = pd.DataFrame(trial_sequence).fillna(pd.NA)\n",
        "    # display(trial_sequence.head())\n",
        "\n",
        "    # target cleaned up data:\n",
        "    # index(actual trial index), coherence_ratio, motion_direction, response, bean_correct_key\n",
        "    # inference: hit, miss, d_prime\n",
        "    # final: index(actual trial index), coherence_ratio, motion_direction, d_prime\n",
        "\n",
        "    # get all rok trials\n",
        "    rok_trials = trial_sequence[trial_sequence[\"trial_type\"] == \"rok\"]\n",
        "    # get only relevant columns\n",
        "    rok_trials = rok_trials.loc[:, [\"bean_text\", \"coherence_movement\", \"coherent_movement_direction\"]]\n",
        "    rok_trials = rok_trials.rename(\n",
        "        columns={\n",
        "            \"bean_text\": \"type\",\n",
        "            \"coherence_movement\": \"coherence_ratio\",\n",
        "            \"coherent_movement_direction\": \"motion_direction\",\n",
        "        }\n",
        "    )\n",
        "    # get rid of duplicated information (each 8 rows are one actual trial)\n",
        "    rok_trials = rok_trials.reset_index(drop=True)\n",
        "    rok_trials = rok_trials[::8]\n",
        "    rok_trials = rok_trials.reset_index(drop=True)\n",
        "    # display(rok_trials)\n",
        "\n",
        "    # get all responses trails\n",
        "    # all the html-keyboard-response where bean_correct_key in not null or empty or NA / NaN\n",
        "    response_trials = trial_sequence[\n",
        "        (trial_sequence[\"trial_type\"] == \"html-keyboard-response\") & (trial_sequence[\"bean_correct_key\"].notna())\n",
        "    ]\n",
        "\n",
        "    # get only relevant columns\n",
        "    response_trials = response_trials.loc[:, [\"response\", \"bean_correct_key\"]]\n",
        "    response_trials = response_trials.rename(columns={\"bean_correct_key\": \"correct_response\"})\n",
        "    # put each 2 response trials after each others into one row\n",
        "    # pair the responses\n",
        "    responses = response_trials[\"response\"].values.reshape(-1, 2).tolist()\n",
        "    # make sure responses are floats\n",
        "    responses = [[float(r) for r in response] for response in responses]\n",
        "    # get rid of the duplicates\n",
        "    response_trials = response_trials[::2]\n",
        "    response_trials[\"response\"] = responses\n",
        "    # convert correct_response from a string list \"[1,2]\" to a list [1,2]\n",
        "    response_trials[\"correct_response\"] = response_trials[\"correct_response\"].apply(lambda x: json.loads(x))\n",
        "    response_trials = response_trials.reset_index(drop=True)\n",
        "    # display(response_trials)\n",
        "\n",
        "    # merge the two dataframes\n",
        "    trials = pd.concat([rok_trials, response_trials], axis=1)\n",
        "\n",
        "    # infer the hit and miss per trial\n",
        "    # hit: number of elements in the\n",
        "    # miss: number of elements in the correct_response that are not in the response\n",
        "    def num_hits(array_1, array_2):\n",
        "        sorted_array_1 = np.sort(array_1)\n",
        "        sorted_array_2 = np.sort(array_2)\n",
        "        return np.sum(sorted_array_1 == sorted_array_2)\n",
        "\n",
        "    def num_misses(array_1, array_2):\n",
        "        sorted_array_1 = np.sort(array_1)\n",
        "        sorted_array_2 = np.sort(array_2)\n",
        "        return np.sum(sorted_array_1 != sorted_array_2)\n",
        "\n",
        "    trials[\"hit\"] = trials.apply(lambda x: num_hits(x[\"response\"], x[\"correct_response\"]), axis=1)\n",
        "    trials[\"miss\"] = trials.apply(lambda x: num_misses(x[\"response\"], x[\"correct_response\"]), axis=1)\n",
        "    display(trials)\n",
        "\n",
        "    # get only target trials (type: \"target\")\n",
        "    trials = trials[trials[\"type\"] == \"target\"]\n",
        "\n",
        "    # group the trails on condition (coherence_ratio, motion_direction)\n",
        "    trials_grouped = trials.groupby([\"coherence_ratio\", \"motion_direction\"]).agg({\"hit\": \"sum\", \"miss\": \"sum\"})\n",
        "    # calculate d_prime\n",
        "    # d_prime: d_prime(hit, miss)\n",
        "    # where hit and misses are aggregated over all trials with the same conditions\n",
        "    trials_grouped[\"d_prime\"] = trials_grouped.apply(lambda x: d_prime(x[\"hit\"], x[\"miss\"]), axis=1)\n",
        "    trials_grouped = trials_grouped.reset_index()\n",
        "    display(trials_grouped)\n",
        "\n",
        "    # select only the experiment data columns (drop hit and miss and type)\n",
        "    trials_grouped = trials_grouped.loc[:, [\"coherence_ratio\", \"motion_direction\", \"d_prime\"]]\n",
        "    # display(trials_grouped)\n",
        "    return trials_grouped\n"
      ],
      "metadata": {
        "id": "3yRejkG1jHl8"
      },
      "execution_count": null,
      "outputs": []
    },
    {
      "cell_type": "markdown",
      "source": [
        "# Model Discovery Method (3 points)\n",
        "\n",
        "Describe the model discovery method you are using here. How did you parameterize it and why? (2 points)"
      ],
      "metadata": {
        "id": "7AglsfYgjI-k"
      }
    },
    {
      "cell_type": "markdown",
      "source": [
        "*YOUR ANSWER GOES HERE*"
      ],
      "metadata": {
        "id": "Dh4xlqaqjhkx"
      }
    },
    {
      "cell_type": "markdown",
      "source": [
        "Paste the code that instantiates and parameterizes the model discovery method (this may be a single line defining an ``sklearn`` regressor). (1 point)"
      ],
      "metadata": {
        "id": "IjS6RR86jVB6"
      }
    },
    {
      "cell_type": "code",
      "source": [
        "# YOUR CODE GOES HERE"
      ],
      "metadata": {
        "id": "-cX4vXMMjTU6"
      },
      "execution_count": null,
      "outputs": []
    },
    {
      "cell_type": "markdown",
      "source": [
        "# Experimental Sampling Method (4 points)\n",
        "\n",
        "Describe the experimental sampling method you are using here. What is the design space you are searching over? What are the inputs to the experimental sampling method? And is your method selecting the new experiment condition? (3 points)"
      ],
      "metadata": {
        "id": "K3gPA1wKjl3O"
      }
    },
    {
      "cell_type": "markdown",
      "source": [
        "Random sampling randomly selects experimental conditions from the design space of independent variables, aiming to sample without bias or specific optimization strategies.\n",
        "\n",
        "Design Space\n",
        "\n",
        "The design space you are searching over consists of two independent variables:\n",
        "1. Coherence Ratio: Values range from 0% to 100% (in increments of 1%).\n",
        "2. Motion Direction: Values range from 0° to 360° (in increments of 1°).\n",
        "\n",
        "This forms a continuous 2D space where each combination of a coherence ratio and a motion direction defines a possible experimental condition.\n",
        "\n",
        "The inputs to the pool method include:\n",
        "\n",
        "1. Variable Collection: A set of independent variables with defined ranges (coherence_ratio and motion_direction) and a dependent variable (d_prime).\n",
        "2. Number of Samples: num_samples=2 is passed, meaning two new conditions are selected randomly each time.\n",
        "\n",
        "\n",
        "\n",
        "The pool method selects new experimental conditions by randomly sampling from the allowed values of the independent variables. For each sample, it selects a pair of coherence_ratio and motion_direction from their respective ranges, generating a condition to be tested in the next iteration of the experiment.\n",
        "\n",
        "This sampling method does not account for prior knowledge or the results of previous experiments. It simply ensures that different combinations of the independent variables are explored without favoring any particular region of the design space."
      ],
      "metadata": {
        "id": "_bI-M276kJSG"
      }
    },
    {
      "cell_type": "markdown",
      "source": [
        "Paste the function implementing your experimental sampling method. If you are using an off-the-shelf AutoRA experimentalist, you may instead just paste the declaration of the experimentalist. (1 point)"
      ],
      "metadata": {
        "id": "Ql_p4oOFj8B6"
      }
    },
    {
      "cell_type": "code",
      "source": [
        "from autora.experimentalist.random import pool"
      ],
      "metadata": {
        "id": "Kl2jUvsMj7AZ"
      },
      "execution_count": 4,
      "outputs": []
    },
    {
      "cell_type": "markdown",
      "source": [
        "# AutoRA Workflow (5 points)"
      ],
      "metadata": {
        "id": "Eu-4RWC0kOlg"
      }
    },
    {
      "cell_type": "markdown",
      "source": [
        "Describe the flow of events in your closed-loop discovery loop. Make sure to explain, for each AutoRA component you are using, which inputs are provided to the component, and what outputs the component is producing. Make also sure to outline the sequence of events executed in the AutoRA loop. (3 points)"
      ],
      "metadata": {
        "id": "lV1GshD7kQrX"
      }
    },
    {
      "cell_type": "markdown",
      "source": [
        "AutoRA component\n",
        "\n",
        "1. **Experimentalist:**\n",
        "\n",
        "* Input: **The experimentalist_on_state function** takes in the current state, the variables (independent and dependent), and a specified number of conditions to sample (num_samples).\n",
        "* Component: **The pool function** randomly samples the space of independent variables (coherence_ratio, motion_direction), selecting new conditions to test.\n",
        "* Output: The output is a set of conditions (independent variable values) that will be used in the next experiment run.\n",
        "* Role: **The experimentalist** creates new combinations of conditions for the experiment runner.\n",
        "\n",
        "2. **Experiment Runner:**\n",
        "\n",
        "* Input: **The runner_on_state function** uses the newly generated conditions (from the experimentalist) to run an experiment. The conditions are transformed into a sequence of trials using the trial_sequences and stimulus_sequence functions, which generate the experimental stimuli.\n",
        "\n",
        "* Component: **The experiment** is conducted, generating a set of raw data observations.\n",
        "* Output: This raw data is processed by **the trial_list_to_experiment_data function** to calculate the dependent variable (d_prime) from the responses in the experiment.\n",
        "* Role: The **experiment runner** tests the conditions generated by the experimentalist and returns the corresponding outcomes.\n",
        "\n",
        "3. **Theorist:**\n",
        "\n",
        "* Input: the theorist_on_state function uses the processed experimental data (independent variables, dependent variable d_prime) and the theorist model (LR model)\n",
        "* Output: the output is the updated model(theorist), which is returned as part of the updated state.\n",
        "* Role: the theorist refines its understanding of the relationships between the independent and dependent variables based on new experimental data.\n",
        "\n",
        "\n",
        "\n",
        "**The outline of the Sequence of Events in the AutoRA Loop**\n",
        "\n",
        "The loop begins with a random sampling of conditions by the experimentalist, which are used to generate trials, and the experiment runner gathers participant responses. The raw data is processed into a clean dataset, where dependent variables (d_prime) are computed based on the participant’s performance. The theorist fits a model to this data, refining its predictions for future experiments. The loop continues for a set number of iterations, with each cycle using the updated state to further refine the experimentalist’s sampling and the theorist’s model.\n",
        "\n",
        "By cycling through these components, the system progressively learns about the relationships between the independent variables and outcomes in an efficient, adaptive manner.\n",
        "\n",
        "\n",
        "\n",
        "\n",
        "    "
      ],
      "metadata": {
        "id": "lSd6pvi2kiWQ"
      }
    },
    {
      "cell_type": "markdown",
      "source": [
        "Paste the code implementing the AutoRA workflow below. (2 points)"
      ],
      "metadata": {
        "id": "pAEk9GtekkY7"
      }
    },
    {
      "cell_type": "code",
      "source": [
        "\"\"\"\n",
        "Basic Workflow\n",
        "    Single condition Variable (0-1), Single Observation Variable(0-1)\n",
        "    Theorist: LinearRegression\n",
        "    Experimentalist: Random Sampling\n",
        "    Runner: Firebase Runner (no prolific recruitment)\n",
        "\"\"\"\n",
        "\n",
        "import json\n",
        "\n",
        "from autora.variable import VariableCollection, Variable\n",
        "from autora.experimentalist.random import pool\n",
        "from autora.experiment_runner.firebase_prolific import firebase_runner\n",
        "from autora.state import StandardState, on_state, Delta\n",
        "\n",
        "import numpy as np\n",
        "import pandas as pd\n",
        "from sklearn.linear_model import LinearRegression\n",
        "from sweetbean.sequence import Block, Experiment\n",
        "from sweetbean.stimulus import TextStimulus\n",
        "\n",
        "from trial_sequence import trial_sequences\n",
        "from stimulus_sequence import stimulus_sequence\n",
        "from utils import update_html_script\n",
        "from methods import d_prime\n",
        "from IPython.display import display\n",
        "import os\n",
        "\n",
        "\n",
        "def psudo_experiment_runner():\n",
        "    # load a csv file called experiment_data.csv\n",
        "    if not os.path.exists(\"myexperiment.csv\"):\n",
        "        raise FileNotFoundError(\"myexperiment.csv not found\")\n",
        "\n",
        "    raw_data = pd.read_csv(\"myexperiment.csv\")\n",
        "    return raw_data.to_dict(orient=\"records\")\n",
        "\n",
        "\n",
        "def run_experiment_once():\n",
        "    experiment_seq = trial_sequences(\n",
        "        coherence_ratios=[100],\n",
        "        motion_directions=[0],\n",
        "        num_repetitions=2,\n",
        "        sequence_type=\"target\",\n",
        "    )\n",
        "\n",
        "    training_seq = trial_sequences(\n",
        "        coherence_ratios=[90],\n",
        "        motion_directions=[45],\n",
        "        num_repetitions=1,\n",
        "        sequence_type=\"training\",\n",
        "    )\n",
        "\n",
        "    print(\"len training sequence: \", len(training_seq[0]))\n",
        "    print(\"len experiment sequence: \", len(experiment_seq[0]))\n",
        "\n",
        "    display(experiment_seq[0])\n",
        "    display(training_seq[0])\n",
        "\n",
        "    js_code = stimulus_sequence(experiment_seq[0], training_seq[0], to_html=True)\n",
        "    # print(stimulus_seq)\n",
        "    update_html_script(\"test_experiment.html\")\n",
        "\n",
        "\n",
        "# To use the theorist on the state object, we wrap it with the on_state functionality and return a\n",
        "# Delta object.\n",
        "# Note: The if the input arguments of the theorist_on_state function are state-fields like\n",
        "# experiment_data, variables, ... , then using this function on a state object will automatically\n",
        "# use those state fields.\n",
        "# The output of these functions is always a Delta object. The keyword argument in this case, tells\n",
        "# the state object witch field to update.\n",
        "\n",
        "\n",
        "@on_state()\n",
        "def theorist_on_state(experiment_data, variables, theorist):\n",
        "    ivs = [iv.name for iv in variables.independent_variables]\n",
        "    dvs = [dv.name for dv in variables.dependent_variables]\n",
        "    x = experiment_data[ivs]\n",
        "    y = experiment_data[dvs]\n",
        "    return Delta(models=[theorist.fit(x, y)])\n",
        "\n",
        "\n",
        "# ** Experimentalist ** #\n",
        "# Here, we use a random pool and use the wrapper to create a on state function\n",
        "# Note: The argument num_samples is not a state field. Instead, we will pass it in when calling\n",
        "# the function\n",
        "\n",
        "\n",
        "@on_state()\n",
        "def experimentalist_on_state(variables, num_samples, experimentalist=pool):\n",
        "    return Delta(conditions=experimentalist(variables, num_samples))\n",
        "\n",
        "\n",
        "# Again, we need to wrap the runner to use it on the state. Here, we send the raw conditions.\n",
        "@on_state()\n",
        "def runner_on_state(conditions):\n",
        "    # Here, we convert conditions into sweet bean code to send the complete experiment code\n",
        "    # directly to the server\n",
        "\n",
        "    coherence_ratios_list = list(conditions[\"coherence_ratio\"])\n",
        "    motion_directions_list = list(conditions[\"motion_direction\"])\n",
        "    conditions_to_send = conditions.copy()\n",
        "\n",
        "    # global training_seq\n",
        "    # experiment_timeline = trial_sequences(coherence_ratios_list, motion_directions_list, all_items_in_one_trial=True)[0]\n",
        "    # js_code = stimulus_sequence(experiment_timeline, training_timeline=training_seq, to_html=False)\n",
        "\n",
        "    experiment_seq = trial_sequences(\n",
        "        coherence_ratios=[100],\n",
        "        motion_directions=[0],\n",
        "        num_repetitions=2,\n",
        "        sequence_type=\"target\",\n",
        "    )\n",
        "\n",
        "    training_seq = trial_sequences(\n",
        "        coherence_ratios=[90],\n",
        "        motion_directions=[45],\n",
        "        num_repetitions=1,\n",
        "        sequence_type=\"training\",\n",
        "    )\n",
        "\n",
        "    print(\"len training sequence: \", len(training_seq[0]))\n",
        "    print(\"len experiment sequence: \", len(experiment_seq[0]))\n",
        "\n",
        "    display(pd.DataFrame(experiment_seq[0]).head())\n",
        "    display(pd.DataFrame(training_seq[0]).head())\n",
        "\n",
        "    js_code = stimulus_sequence(experiment_seq[0], training_seq[0], to_html=False)\n",
        "    conditions_to_send[\"experiment_code\"] = js_code\n",
        "\n",
        "    # dev\n",
        "    data_raw = experiment_runner()  # returns observations for each condition as jsPsych data\n",
        "    print(\"## got raw data ##\")\n",
        "    print(\"data lenght\", len(data_raw))\n",
        "    print(\"data type\", type(data_raw), \"type of first element\", type(data_raw[0]))\n",
        "    # print(\"data_raw[0]\", data_raw[0])\n",
        "\n",
        "    # process the experiment data\n",
        "    experiment_data = pd.DataFrame()\n",
        "    _df = trial_list_to_experiment_data(data_raw)\n",
        "    experiment_data = pd.concat([experiment_data, _df], axis=0)\n",
        "    print(\"processed experiment_data:\")\n",
        "    display(experiment_data)\n",
        "    return Delta(experiment_data=experiment_data)\n",
        "\n",
        "\n",
        "def trial_list_to_experiment_data(trial_sequence):\n",
        "    \"\"\"\n",
        "    Parse a trial sequence (from jsPsych) into dependent and independent variables\n",
        "    independent: coherence_ratio, motion_direction\n",
        "    dependent: d_prime\n",
        "    \"\"\"\n",
        "    trial_sequence = pd.DataFrame(trial_sequence).fillna(pd.NA)\n",
        "    # display(trial_sequence.head())\n",
        "\n",
        "    # target cleaned up data:\n",
        "    # index(actual trial index), coherence_ratio, motion_direction, response, bean_correct_key\n",
        "    # inference: hit, miss, d_prime\n",
        "    # final: index(actual trial index), coherence_ratio, motion_direction, d_prime\n",
        "\n",
        "    # get all rok trials\n",
        "    rok_trials = trial_sequence[trial_sequence[\"trial_type\"] == \"rok\"]\n",
        "    # get only relevant columns\n",
        "    rok_trials = rok_trials.loc[:, [\"bean_text\", \"coherence_movement\", \"coherent_movement_direction\"]]\n",
        "    rok_trials = rok_trials.rename(\n",
        "        columns={\n",
        "            \"bean_text\": \"type\",\n",
        "            \"coherence_movement\": \"coherence_ratio\",\n",
        "            \"coherent_movement_direction\": \"motion_direction\",\n",
        "        }\n",
        "    )\n",
        "    # get rid of duplicated information (each 8 rows are one actual trial)\n",
        "    rok_trials = rok_trials.reset_index(drop=True)\n",
        "    rok_trials = rok_trials[::8]\n",
        "    rok_trials = rok_trials.reset_index(drop=True)\n",
        "    # display(rok_trials)\n",
        "\n",
        "    # get all responses trails\n",
        "    # all the html-keyboard-response where bean_correct_key in not null or empty or NA / NaN\n",
        "    response_trials = trial_sequence[\n",
        "        (trial_sequence[\"trial_type\"] == \"html-keyboard-response\") & (trial_sequence[\"bean_correct_key\"].notna())\n",
        "    ]\n",
        "\n",
        "    # get only relevant columns\n",
        "    response_trials = response_trials.loc[:, [\"response\", \"bean_correct_key\"]]\n",
        "    response_trials = response_trials.rename(columns={\"bean_correct_key\": \"correct_response\"})\n",
        "    # put each 2 response trials after each others into one row\n",
        "    # pair the responses\n",
        "    responses = response_trials[\"response\"].values.reshape(-1, 2).tolist()\n",
        "    # make sure responses are floats\n",
        "    responses = [[float(r) for r in response] for response in responses]\n",
        "    # get rid of the duplicates\n",
        "    response_trials = response_trials[::2]\n",
        "    response_trials[\"response\"] = responses\n",
        "    # convert correct_response from a string list \"[1,2]\" to a list [1,2]\n",
        "    response_trials[\"correct_response\"] = response_trials[\"correct_response\"].apply(lambda x: json.loads(x))\n",
        "    response_trials = response_trials.reset_index(drop=True)\n",
        "    # display(response_trials)\n",
        "\n",
        "    # merge the two dataframes\n",
        "    trials = pd.concat([rok_trials, response_trials], axis=1)\n",
        "\n",
        "    # infer the hit and miss per trial\n",
        "    # hit: number of elements in the\n",
        "    # miss: number of elements in the correct_response that are not in the response\n",
        "    def num_hits(array_1, array_2):\n",
        "        sorted_array_1 = np.sort(array_1)\n",
        "        sorted_array_2 = np.sort(array_2)\n",
        "        return np.sum(sorted_array_1 == sorted_array_2)\n",
        "\n",
        "    def num_misses(array_1, array_2):\n",
        "        sorted_array_1 = np.sort(array_1)\n",
        "        sorted_array_2 = np.sort(array_2)\n",
        "        return np.sum(sorted_array_1 != sorted_array_2)\n",
        "\n",
        "    trials[\"hit\"] = trials.apply(lambda x: num_hits(x[\"response\"], x[\"correct_response\"]), axis=1)\n",
        "    trials[\"miss\"] = trials.apply(lambda x: num_misses(x[\"response\"], x[\"correct_response\"]), axis=1)\n",
        "    display(trials)\n",
        "\n",
        "    # get only target trials (type: \"target\")\n",
        "    trials = trials[trials[\"type\"] == \"target\"]\n",
        "\n",
        "    # group the trails on condition (coherence_ratio, motion_direction)\n",
        "    trials_grouped = trials.groupby([\"coherence_ratio\", \"motion_direction\"]).agg({\"hit\": \"sum\", \"miss\": \"sum\"})\n",
        "    # calculate d_prime\n",
        "    # d_prime: d_prime(hit, miss)\n",
        "    # where hit and misses are aggregated over all trials with the same conditions\n",
        "    trials_grouped[\"d_prime\"] = trials_grouped.apply(lambda x: d_prime(x[\"hit\"], x[\"miss\"]), axis=1)\n",
        "    trials_grouped = trials_grouped.reset_index()\n",
        "    display(trials_grouped)\n",
        "\n",
        "    # select only the experiment data columns (drop hit and miss and type)\n",
        "    trials_grouped = trials_grouped.loc[:, [\"coherence_ratio\", \"motion_direction\", \"d_prime\"]]\n",
        "    # display(trials_grouped)\n",
        "    return trials_grouped\n",
        "\n",
        "\n",
        "if __name__ == \"__main__\":\n",
        "\n",
        "    # run_experiment_once()\n",
        "    # to run the experiment once localy and download the data\n",
        "    # -> either uncomment the above line\n",
        "    # OR\n",
        "    # -> run it from terminal\n",
        "    # python\n",
        "    # >>> from autora_workflow import run_experiment_once\n",
        "    # >>> run_experiment_once()\n",
        "\n",
        "    # *** Set up variables *** #\n",
        "    # independent variable is coherence in percent (0 - 100)\n",
        "    # dependent variable is rt in ms (0 - 10000)\n",
        "    variables = VariableCollection(\n",
        "        independent_variables=[\n",
        "            Variable(name=\"coherence_ratio\", allowed_values=np.linspace(0, 100, 100)),\n",
        "            Variable(name=\"motion_direction\", allowed_values=np.linspace(0, 360, 360)),\n",
        "        ],\n",
        "        dependent_variables=[Variable(name=\"d_prime\", value_range=(0, 10000))],\n",
        "    )\n",
        "\n",
        "    # *** State *** #\n",
        "    # With the variables, we can set up a state. The state object represents the state of our\n",
        "    # closed loop experiment.\n",
        "\n",
        "    state = StandardState(\n",
        "        variables=variables,\n",
        "    )\n",
        "\n",
        "    # *** Components/Agents *** #\n",
        "    # Components are functions that run on the state. The main components are:\n",
        "    # - theorist\n",
        "    # - experiment-runner\n",
        "    # - experimentalist\n",
        "    # See more about components here: https://autoresearch.github.io/autora/\n",
        "\n",
        "    # ** Theorist ** #\n",
        "    # Here we use a linear regression as theorist, but you can use other theorists included in\n",
        "    # autora (for a list: https://autoresearch.github.io/autora/theorist/)\n",
        "\n",
        "    theorist = LinearRegression()\n",
        "\n",
        "    # ** Experiment Runner ** #\n",
        "    # We will run our experiment on firebase and need credentials. You will find them here:\n",
        "    # (https://console.firebase.google.com/)\n",
        "    #   -> project -> project settings -> service accounts -> generate new private key\n",
        "\n",
        "    firebase_credentials = {}\n",
        "\n",
        "    # simple experiment runner that runs the experiment on firebase\n",
        "    # experiment_runner = firebase_runner(firebase_credentials=firebase_credentials, time_out=100, sleep_time=5)\n",
        "    # DEV\n",
        "    experiment_runner = psudo_experiment_runner\n",
        "\n",
        "    # Now, we can run our components\n",
        "    # this is the cycle!\n",
        "    print(\"## Start the cycle ##\")\n",
        "    for _ in range(3):\n",
        "        print(f\"## Iteration {_} ##\")\n",
        "        state = experimentalist_on_state(\n",
        "            state, num_samples=2, experimentalist=pool\n",
        "        )  # Collect 2 conditions per iteration\n",
        "        print(\"## experimentalist done\")\n",
        "        state = runner_on_state(state)\n",
        "        print(\"## runner done\")\n",
        "        state = theorist_on_state(state, theorist=theorist)\n",
        "        print(\"## theorist done\")\n",
        "\n"
      ],
      "metadata": {
        "id": "hn_zO8m1koea"
      },
      "execution_count": null,
      "outputs": []
    },
    {
      "cell_type": "markdown",
      "source": [
        "# Results (2 bonus points)"
      ],
      "metadata": {
        "id": "8_skM48Zky-T"
      }
    },
    {
      "cell_type": "markdown",
      "source": [
        "You may describe any results from your scientific discovery process here."
      ],
      "metadata": {
        "id": "QVVw5ZGKk2BL"
      }
    }
  ],
  "metadata": {
    "colab": {
      "provenance": [],
      "include_colab_link": true
    },
    "kernelspec": {
      "display_name": "Python 3",
      "name": "python3"
    },
    "language_info": {
      "name": "python"
    }
  },
  "nbformat": 4,
  "nbformat_minor": 0
}