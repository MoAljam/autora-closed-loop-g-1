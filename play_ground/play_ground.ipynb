{
 "cells": [
  {
   "cell_type": "code",
   "execution_count": 1,
   "metadata": {
    "ExecuteTime": {
     "end_time": "2024-08-14T14:54:22.781801Z",
     "start_time": "2024-08-14T14:54:21.369577Z"
    }
   },
   "outputs": [],
   "source": [
    "from trial_sequence import trial_sequences\n",
    "from stimulus_sequence import stimulus_sequence\n",
    "from utils import update_html_script"
   ]
  },
  {
   "cell_type": "code",
   "execution_count": 2,
   "metadata": {},
   "outputs": [
    {
     "name": "stdout",
     "output_type": "stream",
     "text": [
      "Sampling 1 trial sequences using CMSGen.\n",
      "Encoding experiment constraints...\n",
      "Running CMSGen...\n",
      "Sampling 1 trial sequences using CMSGen.\n",
      "Encoding experiment constraints...\n",
      "Running CMSGen...\n",
      "Sampling 1 trial sequences using CMSGen.\n",
      "Encoding experiment constraints...\n",
      "Running CMSGen...\n",
      "Sampling 1 trial sequences using CMSGen.\n",
      "Encoding experiment constraints...\n",
      "Running CMSGen...\n",
      "len training sequence:  1\n",
      "len experiment sequence:  2\n"
     ]
    },
    {
     "data": {
      "text/plain": [
       "[{'coherence_ratio': 100,\n",
       "  'motion_direction': 0,\n",
       "  'repetetion': 2,\n",
       "  'item_1': 'I',\n",
       "  'item_2': '4',\n",
       "  'item_3': 'X',\n",
       "  'item_4': 'M',\n",
       "  'item_5': 'O',\n",
       "  'item_6': 'P',\n",
       "  'item_7': 'A',\n",
       "  'item_8': '1',\n",
       "  'correct_choice': [4, 1],\n",
       "  'sequence_type': 'experiment'},\n",
       " {'coherence_ratio': 100,\n",
       "  'motion_direction': 0,\n",
       "  'repetetion': 1,\n",
       "  'item_1': 'C',\n",
       "  'item_2': 'W',\n",
       "  'item_3': '3',\n",
       "  'item_4': 'U',\n",
       "  'item_5': 'H',\n",
       "  'item_6': '4',\n",
       "  'item_7': 'E',\n",
       "  'item_8': 'X',\n",
       "  'correct_choice': [3, 4],\n",
       "  'sequence_type': 'experiment'}]"
      ]
     },
     "metadata": {},
     "output_type": "display_data"
    },
    {
     "data": {
      "text/plain": [
       "[{'coherence_ratio': 90,\n",
       "  'motion_direction': 45,\n",
       "  'repetetion': 1,\n",
       "  'item_1': 'Z',\n",
       "  'item_2': 'A',\n",
       "  'item_3': '1',\n",
       "  'item_4': 'F',\n",
       "  'item_5': 'O',\n",
       "  'item_6': 'F',\n",
       "  'item_7': 'B',\n",
       "  'item_8': '3',\n",
       "  'correct_choice': [1, 3],\n",
       "  'sequence_type': 'training'}]"
      ]
     },
     "metadata": {},
     "output_type": "display_data"
    }
   ],
   "source": [
    "experiment_seq = trial_sequences(coherence_ratios=[0, 20, 100],\n",
    "                            motion_directions=[0, 90, 180, 270],\n",
    "                            num_repetitions=5,\n",
    "                            sequence_type = \"target\",)\n",
    "\n",
    "training_seq = trial_sequences(coherence_ratios=[10, 90],\n",
    "                            motion_directions=[45],\n",
    "                     \n",
    "                            num_repetitions=1,\n",
    "                            sequence_type = \"training\",)\n",
    "\n",
    "experiment_seq = trial_sequences(coherence_ratios=[100],\n",
    "                            motion_directions=[0],\n",
    "                            num_repetitions=2,\n",
    "                            sequence_type = \"target\",)\n",
    "\n",
    "training_seq = trial_sequences(coherence_ratios=[90],\n",
    "                            motion_directions=[45],\n",
    "                            num_repetitions=1,\n",
    "                            sequence_type = \"training\",)\n",
    "\n",
    "print(\"len training sequence: \", len(training_seq[0]))\n",
    "print(\"len experiment sequence: \", len(experiment_seq[0]))\n",
    "\n",
    "display(experiment_seq[0])\n",
    "display(training_seq[0])\n",
    "\n",
    "stimulus_seq = stimulus_sequence(experiment_seq[0], training_seq[0], to_html=True)\n",
    "# print(stimulus_seq)\n",
    "update_html_script(\"test_experiment.html\")"
   ]
  },
  {
   "cell_type": "code",
   "execution_count": null,
   "metadata": {},
   "outputs": [],
   "source": []
  }
 ],
 "metadata": {
  "kernelspec": {
   "display_name": "ASD",
   "language": "python",
   "name": "python3"
  },
  "language_info": {
   "codemirror_mode": {
    "name": "ipython",
    "version": 3
   },
   "file_extension": ".py",
   "mimetype": "text/x-python",
   "name": "python",
   "nbconvert_exporter": "python",
   "pygments_lexer": "ipython3",
   "version": "3.12.4"
  }
 },
 "nbformat": 4,
 "nbformat_minor": 2
}
